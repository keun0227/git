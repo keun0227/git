{
 "cells": [
  {
   "cell_type": "code",
   "execution_count": null,
   "metadata": {},
   "outputs": [],
   "source": [
    "import requests\n",
    "from bs4 import BeautifulSoup\n",
    "\n",
    "# 웹 페이지 요청\n",
    "code = requests.get(\"https://underkg.co.kr/news\")\n",
    "\n",
    "# HTML 파싱\n",
    "soup = BeautifulSoup(code.text, 'html.parser')\n",
    "\n",
    "# 기사 제목 추출\n",
    "titles = soup.select(\"h1.title > a\")\n",
    "\n",
    "for title in titles:\n",
    "    # 제목 출력\n",
    "    print(f\"제목 : {title.text.strip()}\")\n",
    "    \n",
    "    # 기사 링크\n",
    "    article_url = title['href']\n",
    "    \n",
    "    # 기사 링크에서 본문 추출\n",
    "    article_response = requests.get(article_url)\n",
    "    article_soup = BeautifulSoup(article_response.text, 'html.parser')\n",
    "    \n",
    "    # 기사 본문 추출 (가상의 선택자 사용, 실제 페이지에 맞게 수정 필요)\n",
    "    content = article_soup.select_one(\".content\")\n",
    "    \n",
    "    if content:\n",
    "        print(f\"본문 : {content.text.strip()}\")\n",
    "    else:\n",
    "        print(\"본문을 찾을 수 없습니다.\")\n",
    "    \n",
    "    print(\"-\" * 80)  # 구분선\n"
   ]
  },
  {
   "cell_type": "code",
   "execution_count": null,
   "metadata": {},
   "outputs": [],
   "source": [
    "##2번 추가\n",
    "import pandas as pd"
   ]
  }
 ],
 "metadata": {
  "language_info": {
   "name": "python"
  }
 },
 "nbformat": 4,
 "nbformat_minor": 2
}
